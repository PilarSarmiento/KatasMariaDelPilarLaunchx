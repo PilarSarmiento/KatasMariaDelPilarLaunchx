{
 "cells": [
  {
   "cell_type": "code",
   "execution_count": 4,
   "metadata": {},
   "outputs": [
    {
     "name": "stdout",
     "output_type": "stream",
     "text": [
      "5\n"
     ]
    }
   ],
   "source": [
    "#Escribir declaraciones if\n",
    "a = 17\n",
    "b = 5\n",
    "if b < a:\n",
    "    print(b)"
   ]
  },
  {
   "cell_type": "code",
   "execution_count": 11,
   "metadata": {},
   "outputs": [
    {
     "name": "stdout",
     "output_type": "stream",
     "text": [
      "22  es mayor que  12\n",
      "22  sera igual que  12\n"
     ]
    }
   ],
   "source": [
    "#anidar instrucciones condicionales.\n",
    "a = 22\n",
    "b = 12\n",
    "if a > b:\n",
    "    # intrucción(es) a ejecutar\n",
    "    print(a , \" es mayor que \" , b)\n",
    "    if a < b:\n",
    "        # intrucción(es) a ejecutar\n",
    "        print(a , \" es menor que \" , b)\n",
    "    else: \n",
    "        # intrucción(es) a ejecutar\n",
    "        print(a , \" sera igual que \" , b)\n",
    "elif a == b:\n",
    "    # intrucción(es) a ejecutar\n",
    "    print(a , \" es igual que \" , b)\n",
    "else:\n",
    "    # intrucción(es) a ejecutar\n",
    "    print(\" ay un error en los numeros \" )"
   ]
  },
  {
   "cell_type": "code",
   "execution_count": 4,
   "metadata": {},
   "outputs": [
    {
     "name": "stdout",
     "output_type": "stream",
     "text": [
      "Un asteroide se acerca a la tierra demasiado rapido, ve al refugio\n"
     ]
    }
   ],
   "source": [
    "# Añadir el código necesario para crear una variable que guarde la velocidad del asteroide.\n",
    "# Escribe una expresión de prueba para calcular si necesita una advertencia.\n",
    "# Agregue las instrucciones que se ejecutarán si la expresión de prueba es true o false.\n",
    "\n",
    "asteroide = 26\n",
    "\n",
    "if asteroide > 25:\n",
    " print(\"Un asteroide se acerca a la tierra demasiado rapido, ve al refugio\")\n",
    "\n",
    "else:\n",
    " print(\"No hay peligro por hoy\")"
   ]
  },
  {
   "cell_type": "code",
   "execution_count": 9,
   "metadata": {},
   "outputs": [
    {
     "ename": "SyntaxError",
     "evalue": "invalid syntax (2713716679.py, line 8)",
     "output_type": "error",
     "traceback": [
      "\u001b[1;36m  Input \u001b[1;32mIn [9]\u001b[1;36m\u001b[0m\n\u001b[1;33m    else:\u001b[0m\n\u001b[1;37m    ^\u001b[0m\n\u001b[1;31mSyntaxError\u001b[0m\u001b[1;31m:\u001b[0m invalid syntax\n"
     ]
    }
   ],
   "source": [
    "# Agrega el código para crear una variable para un asteroide que viaja a 19 km/s\n",
    "# Escribe varias expresiones de prueba para determinar si puedes ver el rayo de luz desde la tierra\n",
    "# Agrega las instrucciones que se ejecutarán si las expresiones de prueba son True o False\n",
    "\n",
    "asteroide = 19\n",
    "if asteroide > 20:\n",
    "    print(\"hay un rayo de luz diferente en el cielo, podria ser un asteroide\")\n",
    "      \n",
    "     elif asteroide == 20:\n",
    "        print(\"una luz rara en el cielo, puede ser un asteroide, cuidado\")\n",
    "\n",
    "     else:\n",
    "         print(\"todo se ve normal en el cielo\")"
   ]
  },
  {
   "cell_type": "code",
   "execution_count": 10,
   "metadata": {},
   "outputs": [
    {
     "name": "stdout",
     "output_type": "stream",
     "text": [
      "hay un rayo de luz raro en el cielo,cuidado podria ser un asteroide\n"
     ]
    }
   ],
   "source": [
    "# Agrega el código para crear nuevas variables para la velocidad y el tamaño del asteroide\n",
    "# Para probar el código, prueba con varias velocidades y tamaños\n",
    "# Escribe varias expresiones de prueba o combinaciones de expresiones de prueba para determinar qué mensaje se debe enviar a Tierra.\n",
    "\n",
    "velocidadAsteroide = 25\n",
    "tamanoAsteroide = 50\n",
    "if velocidadAsteroide > 25 and tamanoAsteroide> 35:\n",
    "    print(\"¡cuidado, se aserca un asteroide muy peligroso hacia la Tierra!\")\n",
    "elif velocidadAsteroide >= 20:\n",
    "    print(\"hay un rayo de luz raro en el cielo,cuidado podria ser un asteroide\")\n",
    "elif tamanoAsteroide < 25:\n",
    "    print(\"sin peligro por hoy\")\n",
    "else:\n",
    "    print(\"no hay peligro\")"
   ]
  }
 ],
 "metadata": {
  "interpreter": {
   "hash": "b79abbba9c481201dcd8f58e6bf613c86cc19274799109d980a50bf6a1c58666"
  },
  "kernelspec": {
   "display_name": "Python 3.10.2 64-bit",
   "language": "python",
   "name": "python3"
  },
  "language_info": {
   "codemirror_mode": {
    "name": "ipython",
    "version": 3
   },
   "file_extension": ".py",
   "mimetype": "text/x-python",
   "name": "python",
   "nbconvert_exporter": "python",
   "pygments_lexer": "ipython3",
   "version": "3.10.2"
  },
  "orig_nbformat": 4
 },
 "nbformat": 4,
 "nbformat_minor": 2
}
